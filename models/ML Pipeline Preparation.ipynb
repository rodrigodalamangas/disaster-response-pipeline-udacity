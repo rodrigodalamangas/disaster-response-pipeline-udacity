{
 "cells": [
  {
   "cell_type": "markdown",
   "metadata": {},
   "source": [
    "# ML Pipeline Preparation\n",
    "Follow the instructions below to help you create your ML pipeline.\n",
    "### 1. Import libraries and load data from database.\n",
    "- Import Python libraries\n",
    "- Load dataset from database with [`read_sql_table`](https://pandas.pydata.org/pandas-docs/stable/generated/pandas.read_sql_table.html)\n",
    "- Define feature and target variables X and Y"
   ]
  },
  {
   "cell_type": "code",
   "execution_count": 1,
   "metadata": {
    "tags": []
   },
   "outputs": [
    {
     "output_type": "stream",
     "name": "stderr",
     "text": "[nltk_data] Downloading package punkt to\n[nltk_data]     C:\\Users\\dalam\\AppData\\Roaming\\nltk_data...\n[nltk_data]   Package punkt is already up-to-date!\n[nltk_data] Downloading package wordnet to\n[nltk_data]     C:\\Users\\dalam\\AppData\\Roaming\\nltk_data...\n[nltk_data]   Package wordnet is already up-to-date!\n[nltk_data] Downloading package stopwords to\n[nltk_data]     C:\\Users\\dalam\\AppData\\Roaming\\nltk_data...\n[nltk_data]   Package stopwords is already up-to-date!\n"
    }
   ],
   "source": [
    "# import libraries\n",
    "import re\n",
    "import pickle\n",
    "import time\n",
    "import nltk\n",
    "nltk.download(['punkt', 'wordnet', 'stopwords'])\n",
    "import pandas as pd\n",
    "import numpy as np\n",
    "from sqlalchemy import create_engine\n",
    "from nltk.corpus import stopwords\n",
    "from nltk.stem.wordnet import WordNetLemmatizer\n",
    "from nltk.tokenize import word_tokenize\n",
    "from sklearn.model_selection import train_test_split\n",
    "from sklearn.model_selection import GridSearchCV\n",
    "from sklearn.pipeline import Pipeline\n",
    "from sklearn.feature_extraction.text import CountVectorizer, TfidfTransformer\n",
    "from sklearn.multioutput import MultiOutputClassifier\n",
    "from sklearn.ensemble import RandomForestClassifier, AdaBoostClassifier\n",
    "from sklearn.metrics import classification_report"
   ]
  },
  {
   "cell_type": "code",
   "execution_count": 2,
   "metadata": {},
   "outputs": [],
   "source": [
    "# load data from database\n",
    "engine = create_engine('sqlite:///../data/DisasterResponse.db')\n",
    "df = pd.read_sql('SELECT * FROM df', con=engine)\n",
    "X = df['message']\n",
    "Y = df.drop(columns=['id', 'message', 'original', 'genre'])"
   ]
  },
  {
   "cell_type": "code",
   "execution_count": 3,
   "metadata": {
    "tags": []
   },
   "outputs": [
    {
     "output_type": "stream",
     "name": "stdout",
     "text": "<class 'pandas.core.frame.DataFrame'>\nRangeIndex: 26216 entries, 0 to 26215\nData columns (total 40 columns):\n #   Column                  Non-Null Count  Dtype \n---  ------                  --------------  ----- \n 0   id                      26216 non-null  int64 \n 1   message                 26216 non-null  object\n 2   original                10170 non-null  object\n 3   genre                   26216 non-null  object\n 4   related                 26216 non-null  int64 \n 5   request                 26216 non-null  int64 \n 6   offer                   26216 non-null  int64 \n 7   aid_related             26216 non-null  int64 \n 8   medical_help            26216 non-null  int64 \n 9   medical_products        26216 non-null  int64 \n 10  search_and_rescue       26216 non-null  int64 \n 11  security                26216 non-null  int64 \n 12  military                26216 non-null  int64 \n 13  child_alone             26216 non-null  int64 \n 14  water                   26216 non-null  int64 \n 15  food                    26216 non-null  int64 \n 16  shelter                 26216 non-null  int64 \n 17  clothing                26216 non-null  int64 \n 18  money                   26216 non-null  int64 \n 19  missing_people          26216 non-null  int64 \n 20  refugees                26216 non-null  int64 \n 21  death                   26216 non-null  int64 \n 22  other_aid               26216 non-null  int64 \n 23  infrastructure_related  26216 non-null  int64 \n 24  transport               26216 non-null  int64 \n 25  buildings               26216 non-null  int64 \n 26  electricity             26216 non-null  int64 \n 27  tools                   26216 non-null  int64 \n 28  hospitals               26216 non-null  int64 \n 29  shops                   26216 non-null  int64 \n 30  aid_centers             26216 non-null  int64 \n 31  other_infrastructure    26216 non-null  int64 \n 32  weather_related         26216 non-null  int64 \n 33  floods                  26216 non-null  int64 \n 34  storm                   26216 non-null  int64 \n 35  fire                    26216 non-null  int64 \n 36  earthquake              26216 non-null  int64 \n 37  cold                    26216 non-null  int64 \n 38  other_weather           26216 non-null  int64 \n 39  direct_report           26216 non-null  int64 \ndtypes: int64(37), object(3)\nmemory usage: 8.0+ MB\n"
    }
   ],
   "source": [
    "df.info()"
   ]
  },
  {
   "cell_type": "markdown",
   "metadata": {},
   "source": [
    "### 2. Write a tokenization function to process your text data"
   ]
  },
  {
   "cell_type": "code",
   "execution_count": 4,
   "metadata": {},
   "outputs": [],
   "source": [
    "def tokenize(text):\n",
    "\n",
    "    stop_words = stopwords.words(\"english\")\n",
    "    lemmatizer = WordNetLemmatizer()\n",
    "\n",
    "    # normalize case and remove punctuation\n",
    "    text = re.sub(r\"[^a-zA-Z0-9]\", \" \", text.lower())\n",
    "\n",
    "    # tokenize text\n",
    "    tokens = word_tokenize(text)\n",
    "\n",
    "    # lemmatize andremove stop words\n",
    "    tokens = [lemmatizer.lemmatize(word, pos='v')\n",
    "              for word in tokens if word not in stop_words]\n",
    "\n",
    "    return tokens"
   ]
  },
  {
   "cell_type": "markdown",
   "metadata": {},
   "source": [
    "### 3. Build a machine learning pipeline\n",
    "This machine pipeline should take in the `message` column as input and output classification results on the other 36 categories in the dataset. You may find the [MultiOutputClassifier](http://scikit-learn.org/stable/modules/generated/sklearn.multioutput.MultiOutputClassifier.html) helpful for predicting multiple target variables."
   ]
  },
  {
   "cell_type": "code",
   "execution_count": 5,
   "metadata": {},
   "outputs": [],
   "source": [
    "pipeline_AdaBoost = Pipeline([\n",
    "    ('vect', CountVectorizer(tokenizer=tokenize)),\n",
    "    ('tfidf', TfidfTransformer()),\n",
    "    ('clf', MultiOutputClassifier(AdaBoostClassifier())),\n",
    "])"
   ]
  },
  {
   "cell_type": "markdown",
   "metadata": {},
   "source": [
    "### 4. Train pipeline\n",
    "- Split data into train and test sets\n",
    "- Train pipeline"
   ]
  },
  {
   "cell_type": "code",
   "execution_count": 6,
   "metadata": {},
   "outputs": [],
   "source": [
    "X_train, X_test, y_train, y_test = train_test_split(X, Y)"
   ]
  },
  {
   "cell_type": "code",
   "execution_count": 7,
   "metadata": {
    "tags": []
   },
   "outputs": [
    {
     "output_type": "stream",
     "name": "stdout",
     "text": "Time spent to run the AdaBoost pipeline is 128.3545 seconds\n"
    }
   ],
   "source": [
    "start = time.perf_counter()\n",
    "pipeline_AdaBoost.fit(X_train, y_train)\n",
    "y_pred_AdaBoost = pipeline_AdaBoost.predict(X_test)\n",
    "end = time.perf_counter()\n",
    "print(f\"Time spent to run the AdaBoost pipeline is {end - start:0.4f} seconds\")"
   ]
  },
  {
   "cell_type": "markdown",
   "metadata": {},
   "source": [
    "### 5. Test your model\n",
    "Report the f1 score, precision and recall for each output category of the dataset. You can do this by iterating through the columns and calling sklearn's `classification_report` on each."
   ]
  },
  {
   "cell_type": "code",
   "execution_count": 8,
   "metadata": {
    "tags": []
   },
   "outputs": [
    {
     "output_type": "stream",
     "name": "stdout",
     "text": "precision    recall  f1-score   support\n\n               related       0.80      0.96      0.87      5002\n               request       0.79      0.49      0.61      1164\n                 offer       0.00      0.00      0.00        20\n           aid_related       0.74      0.60      0.66      2723\n          medical_help       0.58      0.28      0.38       506\n      medical_products       0.67      0.30      0.41       321\n     search_and_rescue       0.53      0.17      0.26       171\n              security       0.23      0.04      0.07       125\n              military       0.64      0.35      0.45       219\n           child_alone       0.00      0.00      0.00         0\n                 water       0.72      0.67      0.69       393\n                  food       0.82      0.63      0.71       736\n               shelter       0.74      0.53      0.61       557\n              clothing       0.74      0.46      0.57        98\n                 money       0.49      0.29      0.36       148\n        missing_people       0.37      0.09      0.15        76\n              refugees       0.61      0.21      0.32       239\n                 death       0.72      0.39      0.51       299\n             other_aid       0.48      0.14      0.22       900\ninfrastructure_related       0.40      0.10      0.16       430\n             transport       0.54      0.25      0.34       277\n             buildings       0.61      0.42      0.49       305\n           electricity       0.57      0.27      0.37       142\n                 tools       0.14      0.03      0.05        35\n             hospitals       0.40      0.07      0.12        83\n                 shops       0.00      0.00      0.00        26\n           aid_centers       0.29      0.08      0.12        77\n  other_infrastructure       0.28      0.08      0.12       291\n       weather_related       0.85      0.65      0.73      1823\n                floods       0.81      0.62      0.70       523\n                 storm       0.78      0.49      0.60       629\n                  fire       0.55      0.18      0.27        68\n            earthquake       0.87      0.78      0.82       623\n                  cold       0.65      0.32      0.42       133\n         other_weather       0.41      0.11      0.17       335\n         direct_report       0.70      0.39      0.50      1299\n\n             micro avg       0.76      0.58      0.65     20796\n             macro avg       0.54      0.32      0.38     20796\n          weighted avg       0.72      0.58      0.62     20796\n           samples avg       0.65      0.51      0.52     20796\n\n"
    }
   ],
   "source": [
    "print(classification_report(y_test, y_pred_AdaBoost,\n",
    "                            target_names=y_test.columns.values))"
   ]
  },
  {
   "cell_type": "markdown",
   "metadata": {},
   "source": [
    "### 6. Improve your model\n",
    "Use grid search to find better parameters. "
   ]
  },
  {
   "cell_type": "code",
   "execution_count": 9,
   "metadata": {},
   "outputs": [
    {
     "output_type": "execute_result",
     "data": {
      "text/plain": "{'memory': None,\n 'steps': [('vect',\n   CountVectorizer(tokenizer=<function tokenize at 0x0000025787EDA318>)),\n  ('tfidf', TfidfTransformer()),\n  ('clf', MultiOutputClassifier(estimator=AdaBoostClassifier()))],\n 'verbose': False,\n 'vect': CountVectorizer(tokenizer=<function tokenize at 0x0000025787EDA318>),\n 'tfidf': TfidfTransformer(),\n 'clf': MultiOutputClassifier(estimator=AdaBoostClassifier()),\n 'vect__analyzer': 'word',\n 'vect__binary': False,\n 'vect__decode_error': 'strict',\n 'vect__dtype': numpy.int64,\n 'vect__encoding': 'utf-8',\n 'vect__input': 'content',\n 'vect__lowercase': True,\n 'vect__max_df': 1.0,\n 'vect__max_features': None,\n 'vect__min_df': 1,\n 'vect__ngram_range': (1, 1),\n 'vect__preprocessor': None,\n 'vect__stop_words': None,\n 'vect__strip_accents': None,\n 'vect__token_pattern': '(?u)\\\\b\\\\w\\\\w+\\\\b',\n 'vect__tokenizer': <function __main__.tokenize(text)>,\n 'vect__vocabulary': None,\n 'tfidf__norm': 'l2',\n 'tfidf__smooth_idf': True,\n 'tfidf__sublinear_tf': False,\n 'tfidf__use_idf': True,\n 'clf__estimator__algorithm': 'SAMME.R',\n 'clf__estimator__base_estimator': None,\n 'clf__estimator__learning_rate': 1.0,\n 'clf__estimator__n_estimators': 50,\n 'clf__estimator__random_state': None,\n 'clf__estimator': AdaBoostClassifier(),\n 'clf__n_jobs': None}"
     },
     "metadata": {},
     "execution_count": 9
    }
   ],
   "source": [
    "pipeline_AdaBoost.get_params()"
   ]
  },
  {
   "cell_type": "code",
   "execution_count": 10,
   "metadata": {},
   "outputs": [],
   "source": [
    "parameters_AdaBoost = {'clf__estimator__learning_rate': [0.5, 0.75, 1],\n",
    "                       'clf__estimator__n_estimators': [25, 50, 75, 100]}\n",
    "\n",
    "cv_AdaBoost = GridSearchCV(pipeline_AdaBoost,\n",
    "                           param_grid=parameters_AdaBoost, scoring='f1_micro', n_jobs=-1)"
   ]
  },
  {
   "cell_type": "code",
   "execution_count": 11,
   "metadata": {
    "tags": []
   },
   "outputs": [
    {
     "output_type": "stream",
     "name": "stdout",
     "text": "Time spent to run the AdaBoost GridSearch is 3685.7062 seconds\n"
    }
   ],
   "source": [
    "start = time.perf_counter()\n",
    "cv_AdaBoost.fit(X_train, y_train)\n",
    "y_pred_cv_AdaBoost = cv_AdaBoost.predict(X_test)\n",
    "end = time.perf_counter()\n",
    "print(f\"Time spent to run the AdaBoost GridSearch is {end - start:0.4f} seconds\")"
   ]
  },
  {
   "cell_type": "code",
   "execution_count": 12,
   "metadata": {
    "tags": []
   },
   "outputs": [
    {
     "output_type": "stream",
     "name": "stdout",
     "text": "\nBest Parameters: {'clf__estimator__learning_rate': 1, 'clf__estimator__n_estimators': 100}\n"
    }
   ],
   "source": [
    "print(\"\\nBest Parameters:\", cv_AdaBoost.best_params_)"
   ]
  },
  {
   "cell_type": "markdown",
   "metadata": {},
   "source": [
    "### 7. Test your model\n",
    "Show the accuracy, precision, and recall of the tuned model.  \n",
    "\n",
    "Since this project focuses on code quality, process, and  pipelines, there is no minimum performance metric needed to pass. However, make sure to fine tune your models for accuracy, precision and recall to make your project stand out - especially for your portfolio!"
   ]
  },
  {
   "cell_type": "code",
   "execution_count": 13,
   "metadata": {
    "tags": []
   },
   "outputs": [
    {
     "output_type": "stream",
     "name": "stdout",
     "text": "precision    recall  f1-score   support\n\n               related       0.81      0.96      0.88      5002\n               request       0.79      0.53      0.63      1164\n                 offer       0.00      0.00      0.00        20\n           aid_related       0.76      0.61      0.68      2723\n          medical_help       0.54      0.27      0.36       506\n      medical_products       0.59      0.31      0.40       321\n     search_and_rescue       0.39      0.15      0.22       171\n              security       0.23      0.06      0.09       125\n              military       0.61      0.35      0.44       219\n           child_alone       0.00      0.00      0.00         0\n                 water       0.69      0.67      0.68       393\n                  food       0.80      0.62      0.70       736\n               shelter       0.72      0.50      0.59       557\n              clothing       0.76      0.46      0.57        98\n                 money       0.46      0.32      0.38       148\n        missing_people       0.32      0.12      0.17        76\n              refugees       0.62      0.27      0.37       239\n                 death       0.72      0.42      0.53       299\n             other_aid       0.46      0.15      0.23       900\ninfrastructure_related       0.34      0.10      0.16       430\n             transport       0.60      0.27      0.37       277\n             buildings       0.57      0.43      0.49       305\n           electricity       0.54      0.27      0.36       142\n                 tools       0.11      0.03      0.05        35\n             hospitals       0.21      0.05      0.08        83\n                 shops       0.00      0.00      0.00        26\n           aid_centers       0.19      0.04      0.06        77\n  other_infrastructure       0.32      0.12      0.17       291\n       weather_related       0.83      0.68      0.75      1823\n                floods       0.77      0.61      0.68       523\n                 storm       0.75      0.52      0.61       629\n                  fire       0.43      0.24      0.30        68\n            earthquake       0.86      0.79      0.82       623\n                  cold       0.63      0.35      0.45       133\n         other_weather       0.44      0.13      0.20       335\n         direct_report       0.69      0.42      0.52      1299\n\n             micro avg       0.75      0.59      0.66     20796\n             macro avg       0.52      0.33      0.39     20796\n          weighted avg       0.71      0.59      0.63     20796\n           samples avg       0.63      0.51      0.52     20796\n\n"
    }
   ],
   "source": [
    "print(classification_report(y_test, y_pred_cv_AdaBoost,\n",
    "                            target_names=y_test.columns.values))"
   ]
  },
  {
   "cell_type": "markdown",
   "metadata": {},
   "source": [
    "### 8. Try improving your model further. Here are a few ideas:\n",
    "* try other machine learning algorithms\n",
    "* add other features besides the TF-IDF"
   ]
  },
  {
   "cell_type": "code",
   "execution_count": 14,
   "metadata": {},
   "outputs": [],
   "source": [
    "pipeline_RandomForest = Pipeline([\n",
    "    ('vect', CountVectorizer(tokenizer=tokenize)),\n",
    "    ('tfidf', TfidfTransformer()),\n",
    "    ('clf', MultiOutputClassifier(RandomForestClassifier())),\n",
    "])"
   ]
  },
  {
   "cell_type": "code",
   "execution_count": 15,
   "metadata": {
    "tags": []
   },
   "outputs": [
    {
     "output_type": "stream",
     "name": "stdout",
     "text": "Time spent to run the RandomForest pipeline is 640.0503 seconds\n"
    }
   ],
   "source": [
    "start = time.perf_counter()\n",
    "pipeline_RandomForest.fit(X_train, y_train)\n",
    "y_pred_RandomForest = pipeline_RandomForest.predict(X_test)\n",
    "end = time.perf_counter()\n",
    "print(f\"Time spent to run the RandomForest pipeline is {end - start:0.4f} seconds\")"
   ]
  },
  {
   "cell_type": "code",
   "execution_count": 16,
   "metadata": {
    "tags": []
   },
   "outputs": [
    {
     "output_type": "stream",
     "name": "stdout",
     "text": "precision    recall  f1-score   support\n\n               related       0.85      0.93      0.89      5002\n               request       0.85      0.48      0.61      1164\n                 offer       0.00      0.00      0.00        20\n           aid_related       0.76      0.68      0.72      2723\n          medical_help       0.63      0.07      0.13       506\n      medical_products       0.89      0.10      0.17       321\n     search_and_rescue       0.43      0.02      0.03       171\n              security       0.00      0.00      0.00       125\n              military       0.67      0.05      0.09       219\n           child_alone       0.00      0.00      0.00         0\n                 water       0.85      0.38      0.53       393\n                  food       0.86      0.53      0.65       736\n               shelter       0.81      0.38      0.52       557\n              clothing       0.91      0.10      0.18        98\n                 money       0.60      0.04      0.08       148\n        missing_people       1.00      0.01      0.03        76\n              refugees       0.83      0.02      0.04       239\n                 death       0.80      0.12      0.20       299\n             other_aid       0.62      0.03      0.05       900\ninfrastructure_related       0.20      0.00      0.00       430\n             transport       0.58      0.12      0.19       277\n             buildings       0.80      0.12      0.21       305\n           electricity       1.00      0.03      0.05       142\n                 tools       0.00      0.00      0.00        35\n             hospitals       0.00      0.00      0.00        83\n                 shops       0.00      0.00      0.00        26\n           aid_centers       0.00      0.00      0.00        77\n  other_infrastructure       0.00      0.00      0.00       291\n       weather_related       0.84      0.70      0.77      1823\n                floods       0.89      0.54      0.67       523\n                 storm       0.82      0.46      0.59       629\n                  fire       0.00      0.00      0.00        68\n            earthquake       0.89      0.81      0.85       623\n                  cold       0.86      0.05      0.09       133\n         other_weather       0.54      0.04      0.07       335\n         direct_report       0.81      0.34      0.48      1299\n\n             micro avg       0.83      0.52      0.64     20796\n             macro avg       0.57      0.20      0.25     20796\n          weighted avg       0.76      0.52      0.57     20796\n           samples avg       0.66      0.47      0.50     20796\n\n"
    }
   ],
   "source": [
    "print(classification_report(y_test, y_pred_RandomForest,\n",
    "                            target_names=y_test.columns.values))"
   ]
  },
  {
   "cell_type": "code",
   "execution_count": 17,
   "metadata": {},
   "outputs": [
    {
     "output_type": "execute_result",
     "data": {
      "text/plain": "{'memory': None,\n 'steps': [('vect',\n   CountVectorizer(tokenizer=<function tokenize at 0x0000025787EDA318>)),\n  ('tfidf', TfidfTransformer()),\n  ('clf', MultiOutputClassifier(estimator=RandomForestClassifier()))],\n 'verbose': False,\n 'vect': CountVectorizer(tokenizer=<function tokenize at 0x0000025787EDA318>),\n 'tfidf': TfidfTransformer(),\n 'clf': MultiOutputClassifier(estimator=RandomForestClassifier()),\n 'vect__analyzer': 'word',\n 'vect__binary': False,\n 'vect__decode_error': 'strict',\n 'vect__dtype': numpy.int64,\n 'vect__encoding': 'utf-8',\n 'vect__input': 'content',\n 'vect__lowercase': True,\n 'vect__max_df': 1.0,\n 'vect__max_features': None,\n 'vect__min_df': 1,\n 'vect__ngram_range': (1, 1),\n 'vect__preprocessor': None,\n 'vect__stop_words': None,\n 'vect__strip_accents': None,\n 'vect__token_pattern': '(?u)\\\\b\\\\w\\\\w+\\\\b',\n 'vect__tokenizer': <function __main__.tokenize(text)>,\n 'vect__vocabulary': None,\n 'tfidf__norm': 'l2',\n 'tfidf__smooth_idf': True,\n 'tfidf__sublinear_tf': False,\n 'tfidf__use_idf': True,\n 'clf__estimator__bootstrap': True,\n 'clf__estimator__ccp_alpha': 0.0,\n 'clf__estimator__class_weight': None,\n 'clf__estimator__criterion': 'gini',\n 'clf__estimator__max_depth': None,\n 'clf__estimator__max_features': 'auto',\n 'clf__estimator__max_leaf_nodes': None,\n 'clf__estimator__max_samples': None,\n 'clf__estimator__min_impurity_decrease': 0.0,\n 'clf__estimator__min_impurity_split': None,\n 'clf__estimator__min_samples_leaf': 1,\n 'clf__estimator__min_samples_split': 2,\n 'clf__estimator__min_weight_fraction_leaf': 0.0,\n 'clf__estimator__n_estimators': 100,\n 'clf__estimator__n_jobs': None,\n 'clf__estimator__oob_score': False,\n 'clf__estimator__random_state': None,\n 'clf__estimator__verbose': 0,\n 'clf__estimator__warm_start': False,\n 'clf__estimator': RandomForestClassifier(),\n 'clf__n_jobs': None}"
     },
     "metadata": {},
     "execution_count": 17
    }
   ],
   "source": [
    "pipeline_RandomForest.get_params()"
   ]
  },
  {
   "cell_type": "code",
   "execution_count": 18,
   "metadata": {},
   "outputs": [],
   "source": [
    "parameters_RandomForest = {'clf__estimator__max_features': ['auto'],\n",
    "                           'clf__estimator__n_estimators': [25, 50, 75, 100]}\n",
    "\n",
    "cv_RandomForest = GridSearchCV(\n",
    "    pipeline_RandomForest, param_grid=parameters_RandomForest, scoring='f1_micro', n_jobs=-1)"
   ]
  },
  {
   "cell_type": "code",
   "execution_count": 19,
   "metadata": {
    "tags": []
   },
   "outputs": [
    {
     "output_type": "stream",
     "name": "stdout",
     "text": "Time spent to run the RandomForest GridSearch is 2691.0438 seconds\n"
    }
   ],
   "source": [
    "start = time.perf_counter()\n",
    "cv_RandomForest.fit(X_train, y_train)\n",
    "y_pred_cv_RandomForest = cv_RandomForest.predict(X_test)\n",
    "end = time.perf_counter()\n",
    "print(f\"Time spent to run the RandomForest GridSearch is {end - start:0.4f} seconds\")"
   ]
  },
  {
   "cell_type": "code",
   "execution_count": 20,
   "metadata": {
    "tags": []
   },
   "outputs": [
    {
     "output_type": "stream",
     "name": "stdout",
     "text": "\nBest Parameters: {'clf__estimator__max_features': 'auto', 'clf__estimator__n_estimators': 75}\n"
    }
   ],
   "source": [
    "print(\"\\nBest Parameters:\", cv_RandomForest.best_params_)"
   ]
  },
  {
   "cell_type": "code",
   "execution_count": 21,
   "metadata": {
    "tags": []
   },
   "outputs": [
    {
     "output_type": "stream",
     "name": "stdout",
     "text": "precision    recall  f1-score   support\n\n               related       0.85      0.93      0.89      5002\n               request       0.85      0.48      0.62      1164\n                 offer       0.00      0.00      0.00        20\n           aid_related       0.77      0.67      0.72      2723\n          medical_help       0.55      0.08      0.14       506\n      medical_products       0.92      0.07      0.13       321\n     search_and_rescue       0.54      0.04      0.08       171\n              security       0.50      0.01      0.02       125\n              military       0.70      0.09      0.15       219\n           child_alone       0.00      0.00      0.00         0\n                 water       0.84      0.40      0.54       393\n                  food       0.86      0.60      0.70       736\n               shelter       0.81      0.38      0.52       557\n              clothing       0.82      0.09      0.17        98\n                 money       0.60      0.04      0.08       148\n        missing_people       0.00      0.00      0.00        76\n              refugees       0.75      0.03      0.05       239\n                 death       0.80      0.12      0.20       299\n             other_aid       0.58      0.03      0.06       900\ninfrastructure_related       0.20      0.00      0.00       430\n             transport       0.54      0.09      0.16       277\n             buildings       0.79      0.11      0.19       305\n           electricity       0.86      0.04      0.08       142\n                 tools       0.00      0.00      0.00        35\n             hospitals       0.00      0.00      0.00        83\n                 shops       0.00      0.00      0.00        26\n           aid_centers       0.00      0.00      0.00        77\n  other_infrastructure       0.20      0.00      0.01       291\n       weather_related       0.84      0.70      0.77      1823\n                floods       0.87      0.54      0.67       523\n                 storm       0.82      0.45      0.58       629\n                  fire       1.00      0.01      0.03        68\n            earthquake       0.89      0.79      0.84       623\n                  cold       0.91      0.08      0.14       133\n         other_weather       0.56      0.06      0.11       335\n         direct_report       0.81      0.35      0.49      1299\n\n             micro avg       0.83      0.53      0.64     20796\n             macro avg       0.58      0.20      0.25     20796\n          weighted avg       0.76      0.53      0.57     20796\n           samples avg       0.65      0.47      0.50     20796\n\n"
    }
   ],
   "source": [
    "print(classification_report(y_test, y_pred_cv_RandomForest,\n",
    "                            target_names=y_test.columns.values))"
   ]
  },
  {
   "cell_type": "markdown",
   "metadata": {},
   "source": [
    "### 9. Export your model as a pickle file"
   ]
  },
  {
   "cell_type": "code",
   "execution_count": 22,
   "metadata": {
    "tags": []
   },
   "outputs": [
    {
     "output_type": "stream",
     "name": "stdout",
     "text": "\nBest Estimator: Pipeline(steps=[('vect',\n                 CountVectorizer(tokenizer=<function tokenize at 0x0000025787EDA318>)),\n                ('tfidf', TfidfTransformer()),\n                ('clf',\n                 MultiOutputClassifier(estimator=AdaBoostClassifier(learning_rate=1,\n                                                                    n_estimators=100)))])\n"
    }
   ],
   "source": [
    "# According to the f1-score results, the best model is:\n",
    "print(\"\\nBest Estimator:\", cv_AdaBoost.best_estimator_)"
   ]
  },
  {
   "cell_type": "code",
   "execution_count": 23,
   "metadata": {},
   "outputs": [],
   "source": [
    "outfile = open('classifier.pickle', 'wb')\n",
    "pickle.dump(cv_AdaBoost.best_estimator_, outfile)\n",
    "outfile.close()"
   ]
  },
  {
   "cell_type": "markdown",
   "metadata": {},
   "source": [
    "### 10. Use this notebook to complete `train.py`\n",
    "Use the template file attached in the Resources folder to write a script that runs the steps above to create a database and export a model based on a new dataset specified by the user."
   ]
  },
  {
   "cell_type": "code",
   "execution_count": null,
   "metadata": {},
   "outputs": [],
   "source": []
  }
 ],
 "metadata": {
  "kernelspec": {
   "display_name": "Python 3",
   "language": "python",
   "name": "python3"
  },
  "language_info": {
   "codemirror_mode": {
    "name": "ipython",
    "version": 3
   },
   "file_extension": ".py",
   "mimetype": "text/x-python",
   "name": "python",
   "nbconvert_exporter": "python",
   "pygments_lexer": "ipython3",
   "version": "3.7.7-final"
  }
 },
 "nbformat": 4,
 "nbformat_minor": 2
}